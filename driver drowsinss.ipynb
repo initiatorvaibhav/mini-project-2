import tensorflow as tf 
import cv2
import os
import matplotlib.pyplot as plt
import numpy as np

img_array = cv2.imread("Test_dataset/closed_eyes/s0001_00056_0_0_0_0_01.png",cv2.IMREAD_GRAYSCALE)
plt.imshow(img_array,cmap="gray")
img_array.shape

Datadirectory = "test_Dataset/"
classes = ["Closed_Eyes","open_Eyes"]
for category in classes:
  path =os.path.join(Datadirectory,category)
  for img in os.listdir(path):
  img_array = cv2.imread(os.path.join(path,img), cv2.IMREAD_GRAYSCALE)
  backtorgb = cv2.cvtColor(img_array,cv2.COLOR_GRAY2RGB)
  plt.imshow(img_array, cmap="gray")
  plt.show()
  break
break

img_size = 224
new_arrays = cv2.resize(backtorgb, (img_size, img_size))
plt.imshow(new_array, cmap="gray")
plt.show() 


training_Data =[]
def create_training_Data():
  for category in Classes:
    path = os.path.jin(Datadirectory, category)
     class_num = Classes.index(category)
     forikmg in os.listdir(path):
      try:
          img_array  = cv2.imread(os.path.join(path,img), cv2.IMREAD_GRAYSCALE)
          backtorgb = cv2.cvtColor(img_array,cv2.COLOR_GRAY2RGB)
          new_array = cv2.resize(backtorgb, (img_size, img_size))
          training_Dat.append([new_array,class_num])
       except Excepiton as e:
           pass

create_training_Data()
print(len(training_Data))
import random
random.shuffle(training_Data)

X = []
y = []
for features,label in training_Data:
  X.append(features)
  y.append(label)

X = np.array(X).reshape(-1, img_size, img_size, 3)

X.shape

X=X/2555.0

Y=np.array(y)
import pickle

pickle_out = open("X.pickle","wb")
pickle.dump(X, pickle_out)
pickle_out.close()

pickle_out = open("y.pickle","wb")
pickle.dump(X, pickle_out)
pickle_out.close()

import tensorflow as tf
from tensorflow import keras
from tensorflow.keras import layers

model = tf.keras.applications.mobilenet.MobileNet()

model.summary()

base_input = model.layers[0].input
base_output = model.layer[-4].output
Flat_layer= layers.Flatten()(base_output)
final_output = layers.Dense(1)(Flat_layer) ## one node(1/0)
final_output = layers.Activation('signoid')(final_output) 
