import tensorflow as tf 
import cv2
import os
import matplotlib.pyplot as plt
import numpy as np

img_array = cv2.imread("Test_dataset/closed_eyes/s0001_00056_0_0_0_0_01.png",cv2.IMREAD_GRAYSCALE)
plt.imshow(img_array,cmap="gray")
img_array.shape

Datadirectory = "test_Dataset/"
classes = ["Closed_Eyes","open_Eyes"]
for category in classes:
  path =os.path.join(Datadirectory,category)
  for img in os.listdir(path):
  img_array = cv2.imread(os.path.join(path,img), cv2.IMREAD_GRAYSCALE)
  backtorgb = cv2.cvtColor(img_array,cv2.COLOR_GRAY2RGB)
  plt.imshow(img_array, cmap="gray")
  plt.show()
  break
break




