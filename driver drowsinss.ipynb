import tensorflow as tf 
import cv2
import os
import matplotlib.pyplot as plt
import numpy as np

img_array = cv2.imread("Test_dataset/closed_eyes/s0001_00056_0_0_0_0_01.png",cv2.IMREAD_GRAYSCALE)
plt.imshow(img_array,cmap="gray")


